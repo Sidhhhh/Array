{
 "cells": [
  {
   "cell_type": "markdown",
   "id": "f8e81211-487a-4d05-af85-a4dd4e000223",
   "metadata": {},
   "source": [
    "## sturctured arrays"
   ]
  },
  {
   "cell_type": "code",
   "execution_count": 2,
   "id": "e1454d69-abc4-4cf1-80ae-67a4c9e8f0a9",
   "metadata": {},
   "outputs": [],
   "source": [
    "import pandas as pd \n",
    "import numpy as np"
   ]
  },
  {
   "cell_type": "markdown",
   "id": "1118e65a-ca1c-408f-b1ff-3ac3d5b1d124",
   "metadata": {},
   "source": [
    "## case:-1"
   ]
  },
  {
   "cell_type": "markdown",
   "id": "ac762c50-70bd-4c60-b4a1-75bb2a2e27d8",
   "metadata": {},
   "source": [
    "creating a structured array using a compound data type specification"
   ]
  },
  {
   "cell_type": "code",
   "execution_count": 3,
   "id": "dc4b19e0-ec37-4303-b99f-3441289cc526",
   "metadata": {},
   "outputs": [],
   "source": [
    "name = [ \"Alice\", \"Bob\", \"Cathy\", \"Doug\"]\n",
    "age = [25, 45, 37, 19]\n",
    "weight = [55.0, 85.5, 68.0, 61.5]"
   ]
  },
  {
   "cell_type": "code",
   "execution_count": 4,
   "id": "e003c178-d127-4fab-9a0e-5e710c264d41",
   "metadata": {},
   "outputs": [],
   "source": [
    "# First create an empty array container.\n",
    "# Then we will fill the data to that array"
   ]
  },
  {
   "cell_type": "code",
   "execution_count": 5,
   "id": "fa7e1973-f070-439e-ae18-ce484ef95f11",
   "metadata": {},
   "outputs": [],
   "source": [
    "# To crete an empty that has compound type specification we can use a dictionary passed to dtype parameter"
   ]
  },
  {
   "cell_type": "code",
   "execution_count": 8,
   "id": "63f4e996-2654-45a8-8b8c-76d1764d108c",
   "metadata": {},
   "outputs": [
    {
     "data": {
      "text/plain": [
       "dtype([('name', '<U10'), ('age', '<i4'), ('weight', '<f8')])"
      ]
     },
     "execution_count": 8,
     "metadata": {},
     "output_type": "execute_result"
    }
   ],
   "source": [
    "arr = np.zeros(4, dtype={'names':('name', 'age', 'weight'), 'formats':('U10', 'i4', 'f8')})\n",
    "arr.dtype"
   ]
  },
  {
   "cell_type": "code",
   "execution_count": 9,
   "id": "2351adca-e319-4cd6-bf61-2fafe674177c",
   "metadata": {},
   "outputs": [],
   "source": [
    "# Here 'U10' translates to 'unicode string of maximum length 10',\n",
    "#'i4' translates to '4bytes (i.e., 32 bit) integer\n",
    "# 'f8' tranlates to '8 bytes(i.e., 64 bit) float"
   ]
  },
  {
   "cell_type": "code",
   "execution_count": 10,
   "id": "3babb99b-d608-4a3f-94f5-1e9a3d66da13",
   "metadata": {},
   "outputs": [],
   "source": [
    "arr['name']=name\n",
    "arr['age']=age\n",
    "arr['weight']=weight"
   ]
  },
  {
   "cell_type": "code",
   "execution_count": 11,
   "id": "eca4281a-ef73-4bd1-8ace-a4a0fc31268f",
   "metadata": {},
   "outputs": [
    {
     "data": {
      "text/plain": [
       "array([('Alice', 25, 55. ), ('Bob', 45, 85.5), ('Cathy', 37, 68. ),\n",
       "       ('Doug', 19, 61.5)],\n",
       "      dtype=[('name', '<U10'), ('age', '<i4'), ('weight', '<f8')])"
      ]
     },
     "execution_count": 11,
     "metadata": {},
     "output_type": "execute_result"
    }
   ],
   "source": [
    "arr"
   ]
  },
  {
   "cell_type": "code",
   "execution_count": 12,
   "id": "28fe5a69-357f-405a-a481-942e71265440",
   "metadata": {},
   "outputs": [],
   "source": [
    "# The handy thing with structured arrays is that you refer to values either by index or by name"
   ]
  },
  {
   "cell_type": "code",
   "execution_count": 13,
   "id": "63e59df9-0303-4fac-81e4-ca75e1c754bb",
   "metadata": {},
   "outputs": [
    {
     "data": {
      "text/plain": [
       "array(['Alice', 'Bob', 'Cathy', 'Doug'], dtype='<U10')"
      ]
     },
     "execution_count": 13,
     "metadata": {},
     "output_type": "execute_result"
    }
   ],
   "source": [
    "# Get all names\n",
    "arr['name']"
   ]
  },
  {
   "cell_type": "code",
   "execution_count": 14,
   "id": "6e13a39b-50aa-49d2-be68-f393bd6049d0",
   "metadata": {},
   "outputs": [
    {
     "data": {
      "text/plain": [
       "('Alice', 25, 55.)"
      ]
     },
     "execution_count": 14,
     "metadata": {},
     "output_type": "execute_result"
    }
   ],
   "source": [
    "# Get first row\n",
    "arr[0]"
   ]
  },
  {
   "cell_type": "code",
   "execution_count": 15,
   "id": "e446aaec-9c89-4122-a96b-8cbb25fecbfd",
   "metadata": {},
   "outputs": [
    {
     "data": {
      "text/plain": [
       "'Doug'"
      ]
     },
     "execution_count": 15,
     "metadata": {},
     "output_type": "execute_result"
    }
   ],
   "source": [
    "# Get the name from the last row\n",
    "arr[-1]['name']"
   ]
  },
  {
   "cell_type": "markdown",
   "id": "6bdbcce3-8c55-4aa5-9163-c848452045d7",
   "metadata": {},
   "source": [
    "## Case 2:-"
   ]
  },
  {
   "cell_type": "markdown",
   "id": "e44014f1-1455-4d46-820e-fb66cde56e09",
   "metadata": {},
   "source": [
    "Defining compound types by using a list of tuples"
   ]
  },
  {
   "cell_type": "code",
   "execution_count": 16,
   "id": "959a486a-6d48-474e-8bd7-3801f0773ba4",
   "metadata": {},
   "outputs": [
    {
     "data": {
      "text/plain": [
       "dtype([('name', '<U10'), ('age', '<i4'), ('weight', '<f8')])"
      ]
     },
     "execution_count": 16,
     "metadata": {},
     "output_type": "execute_result"
    }
   ],
   "source": [
    "data = np.zeros(4,dtype=[('name', 'U10'), ('age', 'i4'), ('weight', 'f8')])\n",
    "data.dtype"
   ]
  },
  {
   "cell_type": "code",
   "execution_count": 17,
   "id": "d87bbaac-e891-4afa-ad09-8dde0b100592",
   "metadata": {},
   "outputs": [],
   "source": [
    "data['name']=name\n",
    "data['age']=age\n",
    "data['weight']=weight"
   ]
  },
  {
   "cell_type": "code",
   "execution_count": 18,
   "id": "99819039-fc6d-4d9a-97be-2bca8b74b69d",
   "metadata": {},
   "outputs": [
    {
     "data": {
      "text/plain": [
       "array([('Alice', 25, 55. ), ('Bob', 45, 85.5), ('Cathy', 37, 68. ),\n",
       "       ('Doug', 19, 61.5)],\n",
       "      dtype=[('name', '<U10'), ('age', '<i4'), ('weight', '<f8')])"
      ]
     },
     "execution_count": 18,
     "metadata": {},
     "output_type": "execute_result"
    }
   ],
   "source": [
    "data"
   ]
  },
  {
   "cell_type": "code",
   "execution_count": 19,
   "id": "6cb14a88-1337-489c-bb86-d1a94705aa61",
   "metadata": {},
   "outputs": [
    {
     "data": {
      "text/plain": [
       "array(['Alice', 'Bob', 'Cathy', 'Doug'], dtype='<U10')"
      ]
     },
     "execution_count": 19,
     "metadata": {},
     "output_type": "execute_result"
    }
   ],
   "source": [
    "data['name']"
   ]
  },
  {
   "cell_type": "code",
   "execution_count": 21,
   "id": "a6588c6a-9ef1-40f9-86fd-fdbf5a832a2e",
   "metadata": {},
   "outputs": [
    {
     "data": {
      "text/plain": [
       "('Alice', 25, 55.)"
      ]
     },
     "execution_count": 21,
     "metadata": {},
     "output_type": "execute_result"
    }
   ],
   "source": [
    "data[0]"
   ]
  },
  {
   "cell_type": "markdown",
   "id": "7aa2a77b-66a3-4f2f-a8aa-1dab090af772",
   "metadata": {},
   "source": [
    "## Structured arrays to a pandas dataframe"
   ]
  },
  {
   "cell_type": "code",
   "execution_count": 22,
   "id": "930b6d7a-4303-4abc-a459-e555f28fdd2d",
   "metadata": {},
   "outputs": [
    {
     "data": {
      "text/html": [
       "<div>\n",
       "<style scoped>\n",
       "    .dataframe tbody tr th:only-of-type {\n",
       "        vertical-align: middle;\n",
       "    }\n",
       "\n",
       "    .dataframe tbody tr th {\n",
       "        vertical-align: top;\n",
       "    }\n",
       "\n",
       "    .dataframe thead th {\n",
       "        text-align: right;\n",
       "    }\n",
       "</style>\n",
       "<table border=\"1\" class=\"dataframe\">\n",
       "  <thead>\n",
       "    <tr style=\"text-align: right;\">\n",
       "      <th></th>\n",
       "      <th>name</th>\n",
       "      <th>age</th>\n",
       "      <th>weight</th>\n",
       "    </tr>\n",
       "  </thead>\n",
       "  <tbody>\n",
       "    <tr>\n",
       "      <th>0</th>\n",
       "      <td>Alice</td>\n",
       "      <td>25</td>\n",
       "      <td>55.0</td>\n",
       "    </tr>\n",
       "    <tr>\n",
       "      <th>1</th>\n",
       "      <td>Bob</td>\n",
       "      <td>45</td>\n",
       "      <td>85.5</td>\n",
       "    </tr>\n",
       "    <tr>\n",
       "      <th>2</th>\n",
       "      <td>Cathy</td>\n",
       "      <td>37</td>\n",
       "      <td>68.0</td>\n",
       "    </tr>\n",
       "    <tr>\n",
       "      <th>3</th>\n",
       "      <td>Doug</td>\n",
       "      <td>19</td>\n",
       "      <td>61.5</td>\n",
       "    </tr>\n",
       "  </tbody>\n",
       "</table>\n",
       "</div>"
      ],
      "text/plain": [
       "    name  age  weight\n",
       "0  Alice   25    55.0\n",
       "1    Bob   45    85.5\n",
       "2  Cathy   37    68.0\n",
       "3   Doug   19    61.5"
      ]
     },
     "execution_count": 22,
     "metadata": {},
     "output_type": "execute_result"
    }
   ],
   "source": [
    "df=pd.DataFrame(data)\n",
    "df"
   ]
  },
  {
   "cell_type": "code",
   "execution_count": null,
   "id": "93595217-cc55-430b-be0e-54e8ae918512",
   "metadata": {},
   "outputs": [],
   "source": []
  }
 ],
 "metadata": {
  "kernelspec": {
   "display_name": "Python 3 (ipykernel)",
   "language": "python",
   "name": "python3"
  },
  "language_info": {
   "codemirror_mode": {
    "name": "ipython",
    "version": 3
   },
   "file_extension": ".py",
   "mimetype": "text/x-python",
   "name": "python",
   "nbconvert_exporter": "python",
   "pygments_lexer": "ipython3",
   "version": "3.12.2"
  }
 },
 "nbformat": 4,
 "nbformat_minor": 5
}
