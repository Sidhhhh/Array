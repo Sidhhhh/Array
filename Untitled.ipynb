{
 "cells": [
  {
   "cell_type": "markdown",
   "id": "fa9d7d9b-b71a-447f-87db-a2607ae1de5c",
   "metadata": {},
   "source": [
    "## Exploring Linear Algebra in Python with Numpy Beginners sries "
   ]
  },
  {
   "cell_type": "markdown",
   "id": "2609e6a3-c98c-458e-a383-2b92a7e1b7b8",
   "metadata": {},
   "source": [
    "## Scalars and Vectors"
   ]
  },
  {
   "cell_type": "code",
   "execution_count": 1,
   "id": "8c796053-b943-4188-ae8a-d8eb6df0dc23",
   "metadata": {},
   "outputs": [
    {
     "name": "stdout",
     "output_type": "stream",
     "text": [
      "Column Vector:\n",
      " [[1]\n",
      " [2]\n",
      " [3]]\n",
      "Row Vector:\n",
      " [1 2 3]\n"
     ]
    }
   ],
   "source": [
    "import numpy as np\n",
    "# Example of a column vector\n",
    "vector = np.array([[1],[2],[3]])\n",
    "print(\"Column Vector:\\n\", vector)\n",
    "\n",
    "# Example of a row vector\n",
    "vector = np.array([1, 2, 3])\n",
    "print(\"Row Vector:\\n\", vector)"
   ]
  },
  {
   "cell_type": "markdown",
   "id": "debf670d-7e5d-487c-869a-7b1020f83f48",
   "metadata": {},
   "source": [
    "## Matrices"
   ]
  },
  {
   "cell_type": "code",
   "execution_count": 2,
   "id": "3918735f-3679-4ec4-b850-e8e5d0c60282",
   "metadata": {},
   "outputs": [
    {
     "name": "stdout",
     "output_type": "stream",
     "text": [
      "Matrix:\n",
      " [[1 2 3]\n",
      " [4 5 6]\n",
      " [7 8 9]]\n"
     ]
    }
   ],
   "source": [
    "import numpy as np\n",
    "# Example of a matrix\n",
    "matrix = np.array([[1,2,3], [4,5,6], [7,8,9]])\n",
    "print(\"Matrix:\\n\", matrix)"
   ]
  },
  {
   "cell_type": "markdown",
   "id": "08948b7a-9802-4d20-95ca-5819bd07d4c3",
   "metadata": {},
   "source": [
    "## Vector Operations:"
   ]
  },
  {
   "cell_type": "markdown",
   "id": "84da4822-9172-444d-8d38-34bf6ee0ef71",
   "metadata": {},
   "source": [
    "## Addition and Subtraction"
   ]
  },
  {
   "cell_type": "code",
   "execution_count": 3,
   "id": "ab05f727-f13b-49c0-92ef-b306539811ca",
   "metadata": {},
   "outputs": [
    {
     "name": "stdout",
     "output_type": "stream",
     "text": [
      "\n",
      "Vector 1:\n",
      "[1 2 3]\n",
      "\n",
      "Vector 2:\n",
      "[4 5 6]\n",
      "\n",
      "Vector Addition:\n",
      "[5 7 9]\n",
      "\n",
      "Vector Subtraction:\n",
      "[-3 -3 -3]\n"
     ]
    }
   ],
   "source": [
    "# DEfine two vectors\n",
    "vector1 = np.array([1,2,3])\n",
    "vector2 = np.array([4,5,6])\n",
    "\n",
    "# Add the Vectors\n",
    "result_addition = vector1 + vector2\n",
    "\n",
    "# Subtract the vectors\n",
    "result_subtraction = vector1 - vector2\n",
    "\n",
    "print(\"\\nVector 1:\")\n",
    "print(vector1)\n",
    "print(\"\\nVector 2:\")\n",
    "print(vector2)\n",
    "print(\"\\nVector Addition:\")\n",
    "print(result_addition)\n",
    "\n",
    "print(\"\\nVector Subtraction:\")\n",
    "print(result_subtraction)"
   ]
  },
  {
   "cell_type": "markdown",
   "id": "4b3e88bb-04a6-4989-a411-5d639e34e05c",
   "metadata": {},
   "source": [
    "## Multiplication of a Vector with a scalar:"
   ]
  },
  {
   "cell_type": "code",
   "execution_count": 4,
   "id": "a37139c0-8cfe-4b1e-b752-fba365fd9284",
   "metadata": {},
   "outputs": [
    {
     "name": "stdout",
     "output_type": "stream",
     "text": [
      "Scalar: 2\n",
      "Vector: [1 2 3]\n",
      "\n",
      "Scalar Multiplication:\n",
      "[2 4 6]\n"
     ]
    }
   ],
   "source": [
    "# Scalar Multiplicaton \n",
    "scalar = 2\n",
    "result_scalar_multiply = vector1 * scalar\n",
    "print('Scalar:', scalar)\n",
    "print('Vector:', vector1)\n",
    "print(\"\\nScalar Multiplication:\")\n",
    "print(result_scalar_multiply)"
   ]
  },
  {
   "cell_type": "markdown",
   "id": "447363e1-b102-42f1-8d5b-b5ffbb84b3c7",
   "metadata": {},
   "source": [
    "## Dot Product of two vectors"
   ]
  },
  {
   "cell_type": "markdown",
   "id": "edcbfd96-4248-4438-9243-39fa6e74d55f",
   "metadata": {},
   "source": [
    "It calculates the sum of the element wise products of two vectors"
   ]
  },
  {
   "cell_type": "code",
   "execution_count": 5,
   "id": "f732fa07-9101-4c30-99a2-869e883df9bc",
   "metadata": {},
   "outputs": [
    {
     "name": "stdout",
     "output_type": "stream",
     "text": [
      "\n",
      "Vector 1:\n",
      "[1 2 3]\n",
      "\n",
      "Vector 2:\n",
      "[4 5 6]\n",
      "\n",
      "Dot Products:\n",
      "32\n"
     ]
    }
   ],
   "source": [
    "# Calculate the dot product of two vectors\n",
    "dot_product = np.dot(vector1, vector2)\n",
    "print(\"\\nVector 1:\")\n",
    "print(vector)\n",
    "print(\"\\nVector 2:\")\n",
    "print(vector2)\n",
    "print(\"\\nDot Products:\")\n",
    "print(dot_product)"
   ]
  },
  {
   "cell_type": "markdown",
   "id": "24ca85f1-0243-47e3-95ef-f2f183e13492",
   "metadata": {},
   "source": [
    "## The Angle Between Two vectors"
   ]
  },
  {
   "cell_type": "markdown",
   "id": "abcbb0e6-cf61-468f-91fc-ec378e2969de",
   "metadata": {},
   "source": [
    "## 0 = across((v1.v2)/(||v1||*||v2||))"
   ]
  },
  {
   "cell_type": "code",
   "execution_count": 6,
   "id": "05fb6450-f90c-4bc8-a6f2-ab1f883124df",
   "metadata": {},
   "outputs": [
    {
     "name": "stdout",
     "output_type": "stream",
     "text": [
      "Angle between the two vectors 45.00000000000001\n"
     ]
    }
   ],
   "source": [
    "# Define the vectors\n",
    "v1 = np.array([1,0])\n",
    "v2 = np.array([1,1])\n",
    "\n",
    "# Calculate the dot product of v1 and v2\n",
    "dot_product = np.dot(v1, v2)\n",
    "\n",
    "#Calculate the magnitudes (norms) of v1 and v2\n",
    "magnitube_v1 = np.linalg.norm(v1)\n",
    "magnitube_v2 = np.linalg.norm(v2)\n",
    "\n",
    "# Calculate the angle between the vector in radians\n",
    "angle_radians = np.arccos(dot_product / (magnitube_v1 * magnitube_v2))\n",
    "\n",
    "# Convert the angle from radians to degrees\n",
    "angle_degrees = np.degrees(angle_radians)\n",
    "\n",
    "print('Angle between the two vectors', angle_degrees)"
   ]
  },
  {
   "cell_type": "markdown",
   "id": "2e36dd20-b137-4b00-b11d-5288af895da7",
   "metadata": {},
   "source": [
    "## Basic Matrix Operations"
   ]
  },
  {
   "cell_type": "code",
   "execution_count": 7,
   "id": "94decd2c-51f8-4719-a5e5-e642ec1b8a95",
   "metadata": {},
   "outputs": [
    {
     "name": "stdout",
     "output_type": "stream",
     "text": [
      "MatrixA:\n",
      " [[3 7]\n",
      " [4 9]]\n",
      "MatrixA:\n",
      " [[6 2]\n",
      " [5 8]]\n",
      "Matrix Multiplication Result:\n",
      " [[53 62]\n",
      " [69 80]]\n"
     ]
    }
   ],
   "source": [
    "A = np.array([[3,7], [4,9]])\n",
    "B = np.array([[6,2], [5,8]])\n",
    "\n",
    "result = np.matmul(A, B)\n",
    "print('MatrixA:\\n', A)\n",
    "print('MatrixA:\\n', B)\n",
    "print('Matrix Multiplication Result:\\n', result)"
   ]
  },
  {
   "cell_type": "code",
   "execution_count": 8,
   "id": "ea3033d6-83c1-484b-9ba4-2417aacef377",
   "metadata": {},
   "outputs": [
    {
     "name": "stdout",
     "output_type": "stream",
     "text": [
      "\n",
      "Matrix:\n",
      "[[1 2 3]\n",
      " [4 5 6]\n",
      " [7 8 9]]\n",
      "\n",
      "Matrix Transposition:\n",
      "[[1 4 7]\n",
      " [2 5 8]\n",
      " [3 6 9]]\n"
     ]
    }
   ],
   "source": [
    "# Transpose a matrix\n",
    "matrix = np.array([[1,2,3], [4,5,6], [7,8,9]])\n",
    "transpose_matrix = matrix.T\n",
    "print(\"\\nMatrix:\")\n",
    "print(matrix)\n",
    "print(\"\\nMatrix Transposition:\")\n",
    "print(transpose_matrix)"
   ]
  },
  {
   "cell_type": "code",
   "execution_count": 9,
   "id": "26fb43ba-b1ed-4667-bc24-f213d767634d",
   "metadata": {},
   "outputs": [
    {
     "name": "stdout",
     "output_type": "stream",
     "text": [
      "Matrix:\n",
      " [[2 4]\n",
      " [1 3]]\n",
      "Determinant:2.0\n"
     ]
    }
   ],
   "source": [
    "# Define a 2x2 matrix\n",
    "matrix = np.array([[2,4], [1,3]])\n",
    "\n",
    "#Calculate the determinant\n",
    "det = np.linalg.det(matrix)\n",
    "\n",
    "print(\"Matrix:\\n\", matrix)\n",
    "print(f\"Determinant:{det}\")"
   ]
  },
  {
   "cell_type": "code",
   "execution_count": 10,
   "id": "47bf938b-bbe8-4760-b9ff-b54fbc7ef543",
   "metadata": {},
   "outputs": [
    {
     "name": "stdout",
     "output_type": "stream",
     "text": [
      "Matrix:\n",
      " [[1 2 3]\n",
      " [4 5 6]\n",
      " [7 8 9]]\n",
      "Determinant of the matrix A: 0.0\n"
     ]
    }
   ],
   "source": [
    "A = np.array([[1,2,3],\n",
    "              [4,5,6],\n",
    "              [7,8,9]])\n",
    "# Calculate the determinant\n",
    "\n",
    "det_A = np.linalg.det(A)\n",
    "\n",
    "print(\"Matrix:\\n\",A)\n",
    "print(\"Determinant of the matrix A:\", det_A.round())"
   ]
  }
 ],
 "metadata": {
  "kernelspec": {
   "display_name": "Python 3 (ipykernel)",
   "language": "python",
   "name": "python3"
  },
  "language_info": {
   "codemirror_mode": {
    "name": "ipython",
    "version": 3
   },
   "file_extension": ".py",
   "mimetype": "text/x-python",
   "name": "python",
   "nbconvert_exporter": "python",
   "pygments_lexer": "ipython3",
   "version": "3.12.2"
  }
 },
 "nbformat": 4,
 "nbformat_minor": 5
}
